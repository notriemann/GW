{
 "cells": [
  {
   "cell_type": "markdown",
   "id": "25bda52e",
   "metadata": {},
   "source": [
    "## GW analysis with DM effects"
   ]
  },
  {
   "cell_type": "code",
   "execution_count": 1,
   "id": "12d4cb46",
   "metadata": {},
   "outputs": [],
   "source": [
    "import numpy as np\n",
    "import matplotlib.pyplot as plt\n",
    "from astropy import units as u\n",
    "from astropy import constants as const"
   ]
  },
  {
   "cell_type": "markdown",
   "id": "335a45ec",
   "metadata": {},
   "source": [
    "Let $m_1$ and $m_2$ note the masses of the binary system that is inspiraling in the prescence of dark matter. Let $\\phi$ and $r$ denote the orbital phase and separation, respectively. Then, the follwoing relations can be obtained"
   ]
  },
  {
   "cell_type": "markdown",
   "id": "a049ef63",
   "metadata": {},
   "source": [
    "### Orbital relations [1]"
   ]
  },
  {
   "cell_type": "markdown",
   "id": "28e738e2",
   "metadata": {},
   "source": [
    "## $(1) \\quad \\mu = \\frac{m_1 m_2}{m_1 + m_2}, \\quad m = m_1 + m_2$"
   ]
  },
  {
   "cell_type": "markdown",
   "id": "7ca0aeb7",
   "metadata": {},
   "source": [
    "## $(2) \\quad r = \\frac{a(1-e^2)}{(1+e\\cos{\\phi})} \\to a$"
   ]
  },
  {
   "cell_type": "markdown",
   "id": "dba21543",
   "metadata": {},
   "source": [
    "## $(3) \\quad \\dot{\\phi} = \\frac{ \\big( G  mR  \\big)^{1/2}}{r^2},  \\: R = r (1+e\\cos{\\phi}), \\quad \\to \\quad \\dot{\\phi} = \\big( \\frac{Gm}{a^3}\\big)^{1/2} (1-e^2)^{-3/2} (1 + e\\cos{\\phi})^2$"
   ]
  },
  {
   "cell_type": "markdown",
   "id": "13bd6f85",
   "metadata": {},
   "source": [
    "## $\\quad \\dot{\\phi} = \\big( \\frac{Gm}{a^3}\\big)^{1/2} \\quad \\to \\quad a = \\big(\\frac{Gm}{\\dot{\\phi}^2}\\big)^{1/3}$"
   ]
  },
  {
   "cell_type": "markdown",
   "id": "4e330246",
   "metadata": {},
   "source": [
    "## Dark matter relations [2][3]"
   ]
  },
  {
   "cell_type": "markdown",
   "id": "1a58ee50",
   "metadata": {},
   "source": [
    "\n",
    "## $(4) \\quad \\rho_{\\mathrm{spike}}(r)= \\begin{cases}0 & \\text { for } r \\leqslant 2 R_s \\\\ \n",
    "\\rho_{sp}\\left(\\frac{r}{r_{\\mathrm{sp}}}\\right)^{-\\gamma} & \\text { for } 2 R_s<r \\leqslant r_{\\mathrm{sp}}, \n",
    "\\\\ \\rho_{\\text{NFW}}(r) & \\text { for } r>r_{\\mathrm{sp}}\\end{cases} \\qquad r_{\\text{sp}} \\approx \\Big[ \\frac{(3-\\gamma)(0.2)^{3-\\gamma}M_{BH}}{2 \\pi \\rho_{sp}} \\Big]^{1/3} $"
   ]
  },
  {
   "cell_type": "markdown",
   "id": "346c64ba",
   "metadata": {},
   "source": [
    "## $(5) \\quad \\frac{dE_{DM}}{dt} = -\\frac{4 \\pi G^2 \\mu^2 \\rho_{DM}(r) \\ln{\\Lambda}}{v}, \\quad v = (\\dot{r}^2 + r^2 \\dot{\\phi}^2)^{1/2}, \\quad \\Lambda = \\sqrt{m_1 / m_2}$"
   ]
  },
  {
   "cell_type": "markdown",
   "id": "0af31df4",
   "metadata": {},
   "source": [
    "### Gravitational wave relations [1]"
   ]
  },
  {
   "cell_type": "markdown",
   "id": "291e18b5",
   "metadata": {},
   "source": [
    "## $(6) \\quad N_{cyc} = \\int_{t_{min}}^{t_{max}} f_{GW}(t) dt = \\int_{f_{min}}^{f_{max}} df_{GW} \\frac{f_{GW}}{\\dot{f}_{GW}}$"
   ]
  },
  {
   "cell_type": "markdown",
   "id": "19bb385e",
   "metadata": {},
   "source": [
    "## $(6) \\quad N_{cyc} = \\int_{t_{min}}^{t_{max}} f_{GW}(t) dt = \\int_{f_{min}}^{f_{max}} df_{GW} \\frac{f_{GW}}{\\dot{f}_{GW}}$"
   ]
  },
  {
   "cell_type": "markdown",
   "id": "908741db",
   "metadata": {},
   "source": [
    "With a good approximation being $f_{min}$ as the detector's minimum sensitivity, and $f_{max}$ being the final frequency before coalescence.\n",
    "For LIGO, we could assume $f_{min} = 10$ Hz"
   ]
  },
  {
   "cell_type": "markdown",
   "id": "88de912e",
   "metadata": {},
   "source": [
    "The total orbital energy is given by:"
   ]
  },
  {
   "cell_type": "markdown",
   "id": "0755caa5",
   "metadata": {},
   "source": [
    "## $(7) \\quad E_{orb} = -\\frac{Gm \\mu} { 2a}, \\quad \\frac{dE_{orb}}{da} = \\frac{Gm \\mu}{2a^2}$"
   ]
  },
  {
   "cell_type": "markdown",
   "id": "2ed2a2a7",
   "metadata": {},
   "source": [
    "with time evolution as"
   ]
  },
  {
   "cell_type": "markdown",
   "id": "e6ab7d62",
   "metadata": {},
   "source": [
    "## $ (8) \\quad \\frac{\\mathrm{d} E_{\\mathrm{orb}}}{\\mathrm{d} t}=\\left\\langle\\frac{\\mathrm{d} E_{\\mathrm{GW}}}{\\mathrm{d} t}\\right\\rangle+\\left\\langle\\frac{\\mathrm{d} E_{\\mathrm{DM}}}{\\mathrm{d} t}\\right\\rangle$"
   ]
  },
  {
   "cell_type": "markdown",
   "id": "29e3012e",
   "metadata": {},
   "source": [
    "## $(9) \\quad \\left\\langle\\frac{\\mathrm{d} E_{\\mathrm{gw}}}{\\mathrm{d} t}\\right\\rangle=-\\frac{32}{5} \\frac{G^4 \\mu^2 m^3}{c^5 a^5} \\frac{1+\\frac{73}{24} e^2+\\frac{37}{96} e^4}{\\left(1-e^2\\right)^{7 / 2}} \\to-\\frac{32}{5} \\frac{G^4 \\mu^2 m^3}{c^5 a^5}$"
   ]
  },
  {
   "cell_type": "markdown",
   "id": "f62f84ce",
   "metadata": {},
   "source": [
    "##  $(10) \\quad \\left\\langle\\frac{\\mathrm{d} E_{DM}}{\\mathrm{~d} t}\\right\\rangle=\\int_0^T \\frac{\\mathrm{d} t}{T} \\frac{\\mathrm{d} E_{DM}}{\\mathrm{~d} t} =\\left(1-e^2\\right)^{\\frac{3}{2}} \\int_0^{2 \\pi} \\frac{\\mathrm{d} \\phi}{2 \\pi} \\frac{\\frac{dE_{DM}(r(\\phi), v(\\phi))}{dt}}{(1+e \\cos \\phi)^2} = \\int_0^{2 \\pi} \\frac{\\mathrm{d} \\phi}{2 \\pi} \\frac{dE_{DM}(r(\\phi), v(\\phi))}{dt}$"
   ]
  },
  {
   "cell_type": "markdown",
   "id": "e54e1632",
   "metadata": {},
   "source": [
    "This would now imply that for the total orbital energy evolution we can find"
   ]
  },
  {
   "cell_type": "markdown",
   "id": "b4c9419e",
   "metadata": {},
   "source": [
    "## $(11) \\quad \\frac{dr}{dt} = \\frac{da}{dt} = \\frac{dE_{orb}}{dt} \\cdot \\frac{da}{dE_{orb}} = \\frac{2a^2}{G m \\mu} \\Big( \n",
    "-\\frac{32}{5} \\frac{G^4 \\mu^2 m^3}{c^5 a^5}\n",
    " -\\frac{4 \\pi G^2 \\mu^2 \\rho_{DM}(a) \\ln{\\Lambda}}{v}\n",
    " \\Big)$"
   ]
  },
  {
   "cell_type": "markdown",
   "id": "883a6a69",
   "metadata": {},
   "source": [
    "Using the approximation that"
   ]
  },
  {
   "cell_type": "markdown",
   "id": "ae9621b5",
   "metadata": {},
   "source": [
    "## $f_{GW} = 2 f_{orb} = 2 \\dot{\\phi} =2 \\big( \\frac{Gm}{a^3}\\big)^{1/2} $"
   ]
  },
  {
   "cell_type": "markdown",
   "id": "9c6d0524",
   "metadata": {},
   "source": [
    "## $\\dot{f}_{GW} = 2 \\dot{f}_{orb} = 2 \\ddot{\\phi} =-3 a^{-1}\\big( \\frac{Gm}{a^3}\\big)^{1/2} \\frac{da}{dt} = -3 \\big(\\frac{Gm}{f_{orb}^2}\\big)^{-1/3} f_{orb} \\frac{da}{dt} = -3 (Gm)^{-1/3} f^{5/3}_{orb} \\frac{da}{dt}$"
   ]
  },
  {
   "cell_type": "markdown",
   "id": "4ff267fe",
   "metadata": {},
   "source": [
    "## $\\dot{f}_{GW} = -3 (Gm)^{-1/3} (\\frac{f_{GW}}{2} )^{5/3} \\frac{da}{dt}$"
   ]
  },
  {
   "cell_type": "markdown",
   "id": "5677c611",
   "metadata": {},
   "source": [
    "Some numerical results:"
   ]
  },
  {
   "cell_type": "code",
   "execution_count": 2,
   "id": "4f518aed",
   "metadata": {},
   "outputs": [],
   "source": [
    "from scipy.integrate import solve_ivp, quad"
   ]
  },
  {
   "cell_type": "markdown",
   "id": "01aea9bd",
   "metadata": {},
   "source": [
    "From [1] we see that for a quasi-circular orbit the time to coalesce (end time and $f_{max}$ that we will reach) is given by:"
   ]
  },
  {
   "cell_type": "markdown",
   "id": "4413ffe9",
   "metadata": {},
   "source": [
    "## $(12) \\quad t_{coal} = \\frac{5}{256} \\frac{c^5 a_0^4}{G^3 m^2 \\mu}$"
   ]
  },
  {
   "cell_type": "code",
   "execution_count": 3,
   "id": "7585ebf0",
   "metadata": {},
   "outputs": [],
   "source": [
    "# Define some useful constants and relations\n",
    "G = const.G\n",
    "c = const.c\n",
    "\n",
    "#conversion factors\n",
    "m2pc = u.pc / const.pc\n",
    "solar2kg = const.M_sun / u.M_sun\n",
    "s2hr = u.hour / u.s / (60*60) "
   ]
  },
  {
   "cell_type": "code",
   "execution_count": 4,
   "id": "81a302bf",
   "metadata": {},
   "outputs": [
    {
     "name": "stdout",
     "output_type": "stream",
     "text": [
      "For a binary with masses (solar masses) M1: 99.99999999999999, and M2: 1.4, and separation of 8859.750 km (10.000 risco)\n",
      "will have a coalescing time of\n"
     ]
    },
    {
     "data": {
      "text/latex": [
       "$8782.5084 \\; \\mathrm{s}$"
      ],
      "text/plain": [
       "<Quantity 8782.50842577 s>"
      ]
     },
     "execution_count": 4,
     "metadata": {},
     "output_type": "execute_result"
    }
   ],
   "source": [
    "#define the initial parameters of the system (masses and initial semimajor axis)\n",
    "m1 = 1e2 * const.M_sun\n",
    "m2 = 1.4 * const.M_sun\n",
    "\n",
    "risco = 6 * G * m1 / c**2\n",
    "a0 = 10 * risco\n",
    "\n",
    "\n",
    "print('For a binary with masses (solar masses) M1: ' + str(m1 / const.M_sun) + str(\", and M2: \") + str(m2 / const.M_sun) + \", and separation of \" + '{:.3f}'.format(a0 / 1000 /u.m) + str(' km (') +   '{:.3f}'.format(a0 / risco) + str(' risco)')       )\n",
    "print('will have a coalescing time of')\n",
    "m = m1 + m2\n",
    "mu = m1*m2 / (m)\n",
    "\n",
    "tcoal = 5/256 * const.c**5 * a0**4 / ( const.G**3 * m**2 * mu )\n",
    "tcoal"
   ]
  },
  {
   "cell_type": "code",
   "execution_count": 5,
   "id": "ab7edb42",
   "metadata": {},
   "outputs": [
    {
     "data": {
      "text/latex": [
       "$2.4395857 \\; \\mathrm{h}$"
      ],
      "text/plain": [
       "<Quantity 2.43958567 h>"
      ]
     },
     "execution_count": 5,
     "metadata": {},
     "output_type": "execute_result"
    }
   ],
   "source": [
    "tcoal * s2hr"
   ]
  },
  {
   "cell_type": "code",
   "execution_count": 6,
   "id": "6c146e52",
   "metadata": {},
   "outputs": [
    {
     "name": "stdout",
     "output_type": "stream",
     "text": [
      "The masse of m_1 (solar mass) is:  99.99999999999999\n",
      "Which has a Schwarzschild radius of (for m_1) 295.32500761002495 (km)\n",
      "The masse of m_1 (solar mass) is:  1.4\n",
      "Which has a Schwarzschild radius of (for m_2) 4.134550106540349 (km)\n",
      "Mass ratio:  71.42857142857143\n",
      "They will start evolving from :10.0 (risco) or 8859.750228300749 (km)\n",
      "They will stop evolving at 1 risco which is 885.9750228300749 (km)\n"
     ]
    }
   ],
   "source": [
    "print(\"The masse of m_1 (solar mass) is: \", m1 / const.M_sun)\n",
    "print(\"Which has a Schwarzschild radius of (for m_1) \" + str( 2 * G * m1 / c**2 / u.m / 1e3 ) + \" (km)\")\n",
    "print(\"The masse of m_1 (solar mass) is: \", m2 / const.M_sun)\n",
    "print(\"Which has a Schwarzschild radius of (for m_2) \" + str( 2 * G * m2 / c**2 / u.m / 1e3 ) + \" (km)\")\n",
    "print(\"Mass ratio: \", m1/m2)\n",
    "print(\"They will start evolving from :\" + str( a0/risco) + \" (risco) or \" + str(a0 / 1e3 /  u.m) + \" (km)\" )\n",
    "print(\"They will stop evolving at 1 risco which is \" + str(risco / 1e3 /  u.m) + \" (km)\" )"
   ]
  },
  {
   "cell_type": "code",
   "execution_count": 7,
   "id": "8566f3d2",
   "metadata": {},
   "outputs": [],
   "source": [
    "#DM side\n",
    "gamma = 7/3  #spike coefficient (7/4 for Self interacting dark matter and 9/4 for primordial black holes)\n",
    "rhosp = 226 * u.M_sun / u.pc**3 #initial density in solar mass /pc^3"
   ]
  },
  {
   "cell_type": "code",
   "execution_count": 8,
   "id": "944f8e73",
   "metadata": {},
   "outputs": [],
   "source": [
    "#calculate rsp given Mbh in solar masses, rho_sp in solar masses/pc^3 and spike coefficient gamma\n",
    "#returns spike radius in pc\n",
    "def rsp(M, rho, gamma):\n",
    "    return 1.08e-1 * (  (3-gamma)**(1/3) * (0.2)**(-gamma/3) ) * (M/const.M_sun)**(1/3) * (rho /(u.M_sun / u.pc**3) ) **(-1/3) * u.pc"
   ]
  },
  {
   "cell_type": "code",
   "execution_count": 9,
   "id": "d0bc1106",
   "metadata": {},
   "outputs": [
    {
     "data": {
      "text/latex": [
       "$0.25138182 \\; \\mathrm{pc}$"
      ],
      "text/plain": [
       "<Quantity 0.25138182 pc>"
      ]
     },
     "execution_count": 9,
     "metadata": {},
     "output_type": "execute_result"
    }
   ],
   "source": [
    "rsp(m1,rhosp,gamma)"
   ]
  },
  {
   "cell_type": "code",
   "execution_count": 10,
   "id": "f2b64c54",
   "metadata": {},
   "outputs": [],
   "source": [
    "#calculate halo density given r in pc, rhosp in solar masses/pc^3 and m1 in solar masses\n",
    "#returns density in solar mass / pc^3\n",
    "\n",
    "def rho(r, rhosp, gamma, m1):\n",
    "    if (r < 4 * G * m1 / c**2 * m2pc):\n",
    "        return 0 * rhosp\n",
    "    else:\n",
    "        return rhosp * ( r / rsp(m1,rhosp,gamma)) **(-gamma)\n"
   ]
  },
  {
   "cell_type": "code",
   "execution_count": 11,
   "id": "6d5233ac",
   "metadata": {},
   "outputs": [],
   "source": [
    "r_display = np.geomspace(0.1, 100,1000) * risco\n",
    "rho_display = np.zeros(1000) * u.M_sun / (u.pc**3)\n",
    "\n",
    "for i in range(0,1000):\n",
    "    rho_display[i] = rho(r_display[i] * m2pc, rhosp, gamma, m1)\n"
   ]
  },
  {
   "cell_type": "code",
   "execution_count": 12,
   "id": "af07aee3",
   "metadata": {},
   "outputs": [
    {
     "data": {
      "text/latex": [
       "$[0.3,~0.30208159,~0.30417762,~\\dots,~295.87975,~297.93275,~300] \\; \\mathrm{}$"
      ],
      "text/plain": [
       "<Quantity [  0.3       ,   0.30208159,   0.30417762,   0.3062882 ,\n",
       "             0.30841342,   0.31055339,   0.3127082 ,   0.31487797,\n",
       "             0.31706279,   0.31926277,   0.32147802,   0.32370864,\n",
       "             0.32595473,   0.32821641,   0.33049378,   0.33278696,\n",
       "             0.33509605,   0.33742115,   0.33976239,   0.34211988,\n",
       "             0.34449372,   0.34688404,   0.34929094,   0.35171454,\n",
       "             0.35415496,   0.35661231,   0.35908671,   0.36157828,\n",
       "             0.36408714,   0.36661341,   0.3691572 ,   0.37171865,\n",
       "             0.37429787,   0.37689498,   0.37951012,   0.3821434 ,\n",
       "             0.38479495,   0.3874649 ,   0.39015338,   0.39286051,\n",
       "             0.39558642,   0.39833125,   0.40109512,   0.40387817,\n",
       "             0.40668054,   0.40950234,   0.41234373,   0.41520483,\n",
       "             0.41808578,   0.42098673,   0.4239078 ,   0.42684914,\n",
       "             0.42981089,   0.43279319,   0.43579618,   0.43882001,\n",
       "             0.44186482,   0.44493075,   0.44801796,   0.4511266 ,\n",
       "             0.4542568 ,   0.45740872,   0.46058251,   0.46377832,\n",
       "             0.46699631,   0.47023662,   0.47349942,   0.47678486,\n",
       "             0.48009309,   0.48342428,   0.48677859,   0.49015616,\n",
       "             0.49355718,   0.49698179,   0.50043016,   0.50390246,\n",
       "             0.50739886,   0.51091951,   0.51446459,   0.51803427,\n",
       "             0.52162872,   0.52524811,   0.52889261,   0.5325624 ,\n",
       "             0.53625766,   0.53997855,   0.54372526,   0.54749797,\n",
       "             0.55129686,   0.55512211,   0.55897389,   0.56285241,\n",
       "             0.56675783,   0.57069036,   0.57465017,   0.57863745,\n",
       "             0.5826524 ,   0.58669521,   0.59076608,   0.59486518,\n",
       "             0.59899274,   0.60314892,   0.60733395,   0.61154802,\n",
       "             0.61579133,   0.62006407,   0.62436647,   0.62869872,\n",
       "             0.63306103,   0.63745361,   0.64187666,   0.64633041,\n",
       "             0.65081506,   0.65533082,   0.65987792,   0.66445657,\n",
       "             0.66906699,   0.6737094 ,   0.67838402,   0.68309108,\n",
       "             0.68783079,   0.6926034 ,   0.69740912,   0.70224818,\n",
       "             0.70712082,   0.71202728,   0.71696777,   0.72194255,\n",
       "             0.72695184,   0.73199589,   0.73707494,   0.74218923,\n",
       "             0.74733901,   0.75252452,   0.75774601,   0.76300373,\n",
       "             0.76829793,   0.77362887,   0.77899679,   0.78440196,\n",
       "             0.78984464,   0.79532508,   0.80084355,   0.80640031,\n",
       "             0.81199562,   0.81762976,   0.82330299,   0.82901559,\n",
       "             0.83476782,   0.84055997,   0.8463923 ,   0.85226511,\n",
       "             0.85817866,   0.86413325,   0.87012915,   0.87616665,\n",
       "             0.88224605,   0.88836763,   0.89453169,   0.90073851,\n",
       "             0.90698841,   0.91328166,   0.91961859,   0.92599948,\n",
       "             0.93242465,   0.9388944 ,   0.94540905,   0.95196889,\n",
       "             0.95857425,   0.96522545,   0.97192279,   0.9786666 ,\n",
       "             0.98545721,   0.99229493,   0.9991801 ,   1.00611305,\n",
       "             1.01309409,   1.02012358,   1.02720184,   1.03432922,\n",
       "             1.04150605,   1.04873267,   1.05600944,   1.0633367 ,\n",
       "             1.0707148 ,   1.0781441 ,   1.08562494,   1.0931577 ,\n",
       "             1.10074271,   1.10838036,   1.116071  ,   1.12381501,\n",
       "             1.13161275,   1.13946459,   1.14737092,   1.1553321 ,\n",
       "             1.16334852,   1.17142057,   1.17954863,   1.18773308,\n",
       "             1.19597432,   1.20427275,   1.21262875,   1.22104274,\n",
       "             1.2295151 ,   1.23804625,   1.2466366 ,   1.25528655,\n",
       "             1.26399652,   1.27276693,   1.28159819,   1.29049073,\n",
       "             1.29944497,   1.30846134,   1.31754027,   1.32668219,\n",
       "             1.33588755,   1.34515678,   1.35449033,   1.36388864,\n",
       "             1.37335216,   1.38288135,   1.39247665,   1.40213853,\n",
       "             1.41186745,   1.42166388,   1.43152828,   1.44146113,\n",
       "             1.4514629 ,   1.46153407,   1.47167511,   1.48188652,\n",
       "             1.49216879,   1.5025224 ,   1.51294785,   1.52344563,\n",
       "             1.53401626,   1.54466024,   1.55537806,   1.56617026,\n",
       "             1.57703734,   1.58797982,   1.59899822,   1.61009308,\n",
       "             1.62126493,   1.63251429,   1.6438417 ,   1.65524771,\n",
       "             1.66673287,   1.67829771,   1.6899428 ,   1.70166869,\n",
       "             1.71347594,   1.72536512,   1.73733679,   1.74939153,\n",
       "             1.76152992,   1.77375252,   1.78605994,   1.79845275,\n",
       "             1.81093155,   1.82349694,   1.83614951,   1.84888988,\n",
       "             1.86171864,   1.87463642,   1.88764383,   1.9007415 ,\n",
       "             1.91393004,   1.9272101 ,   1.9405823 ,   1.95404728,\n",
       "             1.9676057 ,   1.98125819,   1.99500541,   2.00884802,\n",
       "             2.02278667,   2.03682204,   2.0509548 ,   2.06518562,\n",
       "             2.07951518,   2.09394417,   2.10847328,   2.1231032 ,\n",
       "             2.13783463,   2.15266828,   2.16760485,   2.18264506,\n",
       "             2.19778963,   2.21303928,   2.22839474,   2.24385675,\n",
       "             2.25942605,   2.27510337,   2.29088948,   2.30678512,\n",
       "             2.32279105,   2.33890804,   2.35513686,   2.37147829,\n",
       "             2.3879331 ,   2.40450209,   2.42118604,   2.43798576,\n",
       "             2.45490204,   2.47193571,   2.48908756,   2.50635842,\n",
       "             2.52374911,   2.54126048,   2.55889335,   2.57664857,\n",
       "             2.59452698,   2.61252945,   2.63065683,   2.64890999,\n",
       "             2.6672898 ,   2.68579714,   2.70443289,   2.72319796,\n",
       "             2.74209322,   2.7611196 ,   2.78027799,   2.79956931,\n",
       "             2.81899449,   2.83855446,   2.85825014,   2.87808249,\n",
       "             2.89805244,   2.91816096,   2.938409  ,   2.95879754,\n",
       "             2.97932754,   3.        ,   3.02081589,   3.04177622,\n",
       "             3.06288199,   3.0841342 ,   3.10553387,   3.12708202,\n",
       "             3.14877969,   3.17062791,   3.19262773,   3.2147802 ,\n",
       "             3.23708637,   3.25954732,   3.28216412,   3.30493785,\n",
       "             3.32786959,   3.35096046,   3.37421154,   3.39762395,\n",
       "             3.42119881,   3.44493724,   3.46884039,   3.4929094 ,\n",
       "             3.51714541,   3.54154959,   3.56612309,   3.59086711,\n",
       "             3.61578281,   3.6408714 ,   3.66613406,   3.69157201,\n",
       "             3.71718647,   3.74297866,   3.76894981,   3.79510116,\n",
       "             3.82143397,   3.84794949,   3.874649  ,   3.90153376,\n",
       "             3.92860506,   3.9558642 ,   3.98331249,   4.01095123,\n",
       "             4.03878174,   4.06680536,   4.09502342,   4.12343728,\n",
       "             4.15204829,   4.18085782,   4.20986725,   4.23907797,\n",
       "             4.26849137,   4.29810886,   4.32793185,   4.35796178,\n",
       "             4.38820007,   4.41864817,   4.44930754,   4.48017965,\n",
       "             4.51126596,   4.54256798,   4.57408718,   4.60582509,\n",
       "             4.63778321,   4.66996308,   4.70236623,   4.73499422,\n",
       "             4.7678486 ,   4.80093094,   4.83424283,   4.86778586,\n",
       "             4.90156163,   4.93557176,   4.96981788,   5.00430161,\n",
       "             5.03902462,   5.07398855,   5.10919509,   5.14464591,\n",
       "             5.18034271,   5.2162872 ,   5.2524811 ,   5.28892613,\n",
       "             5.32562404,   5.36257658,   5.39978552,   5.43725264,\n",
       "             5.47497973,   5.5129686 ,   5.55122106,   5.58973894,\n",
       "             5.62852407,   5.66757833,   5.70690357,   5.74650167,\n",
       "             5.78637452,   5.82652404,   5.86695215,   5.90766077,\n",
       "             5.94865185,   5.98992735,   6.03148925,   6.07333953,\n",
       "             6.11548019,   6.15791326,   6.20064075,   6.24366471,\n",
       "             6.2869872 ,   6.33061029,   6.37453606,   6.41876661,\n",
       "             6.46330407,   6.50815056,   6.55330821,   6.5987792 ,\n",
       "             6.6445657 ,   6.69066989,   6.73709399,   6.7838402 ,\n",
       "             6.83091077,   6.87830794,   6.92603398,   6.97409118,\n",
       "             7.02248183,   7.07120824,   7.12027275,   7.1696777 ,\n",
       "             7.21942545,   7.26951838,   7.31995889,   7.37074939,\n",
       "             7.4218923 ,   7.47339008,   7.52524518,   7.57746008,\n",
       "             7.63003728,   7.6829793 ,   7.73628866,   7.78996792,\n",
       "             7.84401964,   7.8984464 ,   7.95325081,   8.00843548,\n",
       "             8.06400306,   8.11995621,   8.17629759,   8.23302991,\n",
       "             8.29015587,   8.34767821,   8.40559967,   8.46392303,\n",
       "             8.52265107,   8.58178661,   8.64133246,   8.70129148,\n",
       "             8.76166654,   8.82246051,   8.88367631,   8.94531687,\n",
       "             9.00738513,   9.06988405,   9.13281664,   9.19618589,\n",
       "             9.25999483,   9.32424652,   9.38894403,   9.45409045,\n",
       "             9.5196889 ,   9.58574252,   9.65225445,   9.71922789,\n",
       "             9.78666603,   9.8545721 ,   9.92294934,   9.99180103,\n",
       "            10.06113046,  10.13094093,  10.2012358 ,  10.27201841,\n",
       "            10.34329216,  10.41506046,  10.48732672,  10.56009442,\n",
       "            10.63336702,  10.70714804,  10.78144099,  10.85624944,\n",
       "            10.93157695,  11.00742714,  11.08380362,  11.16071004,\n",
       "            11.2381501 ,  11.31612748,  11.39464592,  11.47370917,\n",
       "            11.55332101,  11.63348524,  11.71420571,  11.79548627,\n",
       "            11.8773308 ,  11.95974322,  12.04272747,  12.12628752,\n",
       "            12.21042736,  12.29515102,  12.38046254,  12.466366  ,\n",
       "            12.55286552,  12.63996523,  12.72766929,  12.8159819 ,\n",
       "            12.90490727,  12.99444967,  13.08461337,  13.17540268,\n",
       "            13.26682194,  13.35887553,  13.45156784,  13.54490332,\n",
       "            13.63888641,  13.73352162,  13.82881346,  13.9247665 ,\n",
       "            14.02138532,  14.11867455,  14.21663883,  14.31528285,\n",
       "            14.41461132,  14.51462899,  14.61534066,  14.71675112,\n",
       "            14.81886523,  14.92168788,  15.02522397,  15.12947846,\n",
       "            15.23445634,  15.34016262,  15.44660235,  15.55378063,\n",
       "            15.66170258,  15.77037337,  15.87979818,  15.98998224,\n",
       "            16.10093084,  16.21264926,  16.32514286,  16.43841701,\n",
       "            16.55247713,  16.66732867,  16.78297712,  16.89942801,\n",
       "            17.01668691,  17.13475943,  17.25365122,  17.37336794,\n",
       "            17.49391534,  17.61529917,  17.73752524,  17.86059939,\n",
       "            17.98452751,  18.10931552,  18.23496938,  18.36149512,\n",
       "            18.48889877,  18.61718642,  18.74636422,  18.87643833,\n",
       "            19.00741498,  19.13930043,  19.27210098,  19.40582298,\n",
       "            19.54047284,  19.67605698,  19.81258189,  19.95005409,\n",
       "            20.08848016,  20.22786673,  20.36822044,  20.50954801,\n",
       "            20.65185621,  20.79515183,  20.93944172,  21.08473279,\n",
       "            21.23103198,  21.37834629,  21.52668276,  21.67604848,\n",
       "            21.82645059,  21.97789628,  22.13039281,  22.28394745,\n",
       "            22.43856755,  22.5942605 ,  22.75103374,  22.90889478,\n",
       "            23.06785116,  23.22791048,  23.38908039,  23.5513686 ,\n",
       "            23.71478287,  23.87933101,  24.04502088,  24.21186042,\n",
       "            24.3798576 ,  24.54902045,  24.71935705,  24.89087556,\n",
       "            25.06358418,  25.23749115,  25.4126048 ,  25.5889335 ,\n",
       "            25.76648568,  25.94526983,  26.12529449,  26.30656828,\n",
       "            26.48909987,  26.67289797,  26.85797138,  27.04432894,\n",
       "            27.23197958,  27.42093225,  27.61119599,  27.8027799 ,\n",
       "            27.99569315,  28.18994494,  28.38554458,  28.58250142,\n",
       "            28.78082486,  28.9805244 ,  29.18160958,  29.38409001,\n",
       "            29.58797538,  29.79327544,  30.        ,  30.20815894,\n",
       "            30.41776223,  30.62881987,  30.84134196,  31.05533867,\n",
       "            31.27082022,  31.48779692,  31.70627914,  31.92627732,\n",
       "            32.14780199,  32.37086375,  32.59547324,  32.82164122,\n",
       "            33.04937849,  33.27869595,  33.50960455,  33.74211535,\n",
       "            33.97623945,  34.21198806,  34.44937244,  34.68840394,\n",
       "            34.92909399,  35.1714541 ,  35.41549586,  35.66123093,\n",
       "            35.90867107,  36.15782811,  36.40871395,  36.6613406 ,\n",
       "            36.91572013,  37.17186471,  37.42978658,  37.68949807,\n",
       "            37.95101161,  38.2143397 ,  38.47949492,  38.74648995,\n",
       "            39.01533757,  39.28605061,  39.55864204,  39.83312488,\n",
       "            40.10951225,  40.38781738,  40.66805356,  40.9502342 ,\n",
       "            41.23437278,  41.5204829 ,  41.80857823,  42.09867254,\n",
       "            42.39077972,  42.68491372,  42.9810886 ,  43.27931854,\n",
       "            43.57961778,  43.88200069,  44.18648172,  44.49307543,\n",
       "            44.80179648,  45.11265964,  45.42567976,  45.74087181,\n",
       "            46.05825086,  46.37783209,  46.69963078,  47.02366231,\n",
       "            47.34994217,  47.67848597,  48.00930941,  48.34242832,\n",
       "            48.67785861,  49.01561633,  49.35571763,  49.69817877,\n",
       "            50.04301612,  50.39024616,  50.73988551,  51.09195088,\n",
       "            51.4464591 ,  51.80342712,  52.16287201,  52.52481095,\n",
       "            52.88926126,  53.25624035,  53.62576578,  53.9978552 ,\n",
       "            54.37252642,  54.74979734,  55.12968601,  55.51221059,\n",
       "            55.89738936,  56.28524074,  56.67578329,  57.06903566,\n",
       "            57.46501667,  57.86374524,  58.26524044,  58.66952148,\n",
       "            59.07660766,  59.48651847,  59.8992735 ,  60.31489249,\n",
       "            60.7333953 ,  61.15480195,  61.57913258,  62.00640749,\n",
       "            62.4366471 ,  62.86987198,  63.30610286,  63.74536057,\n",
       "            64.18766614,  64.6330407 ,  65.08150555,  65.53308213,\n",
       "            65.98779204,  66.44565701,  66.90669894,  67.37093987,\n",
       "            67.83840199,  68.30910766,  68.78307939,  69.26033983,\n",
       "            69.7409118 ,  70.22481829,  70.71208242,  71.2027275 ,\n",
       "            71.69677699,  72.1942545 ,  72.69518383,  73.19958892,\n",
       "            73.70749389,  74.21892303,  74.73390078,  75.25245178,\n",
       "            75.77460081,  76.30037284,  76.82979301,  77.36288663,\n",
       "            77.89967919,  78.44019635,  78.98446397,  79.53250806,\n",
       "            80.08435482,  80.64003065,  81.1995621 ,  81.76297594,\n",
       "            82.3302991 ,  82.9015587 ,  83.47678207,  84.05599669,\n",
       "            84.63923028,  85.22651071,  85.81786606,  86.4133246 ,\n",
       "            87.01291482,  87.61666537,  88.22460512,  88.83676314,\n",
       "            89.4531687 ,  90.07385127,  90.69884053,  91.32816636,\n",
       "            91.96185885,  92.5999483 ,  93.24246522,  93.88944032,\n",
       "            94.54090455,  95.19688904,  95.85742517,  96.52254452,\n",
       "            97.19227889,  97.86666029,  98.54572098,  99.22949342,\n",
       "            99.91801031, 100.61130456, 101.30940932, 102.01235798,\n",
       "           102.72018414, 103.43292164, 104.15060457, 104.87326723,\n",
       "           105.60094418, 106.33367022, 107.07148037, 107.81440991,\n",
       "           108.56249437, 109.31576951, 110.07427135, 110.83803616,\n",
       "           111.60710044, 112.38150098, 113.1612748 , 113.94645919,\n",
       "           114.73709167, 115.53321007, 116.33485244, 117.14205711,\n",
       "           117.95486267, 118.77330799, 119.59743221, 120.42727471,\n",
       "           121.26287519, 122.1042736 , 122.95151015, 123.80462537,\n",
       "           124.66366004, 125.52865524, 126.39965232, 127.27669292,\n",
       "           128.15981899, 129.04907274, 129.9444967 , 130.84613368,\n",
       "           131.75402678, 132.66821942, 133.5887553 , 134.51567844,\n",
       "           135.44903316, 136.38886409, 137.33521615, 138.2881346 ,\n",
       "           139.24766501, 140.21385324, 141.1867455 , 142.16638829,\n",
       "           143.15282847, 144.14611319, 145.14628995, 146.15340656,\n",
       "           147.16751119, 148.18865232, 149.21687876, 150.2522397 ,\n",
       "           151.29478462, 152.34456337, 153.40162615, 154.4660235 ,\n",
       "           155.53780632, 156.61702584, 157.70373366, 158.79798175,\n",
       "           159.89982243, 161.00930837, 162.12649262, 163.25142861,\n",
       "           164.38417011, 165.52477128, 166.67328667, 167.82977119,\n",
       "           168.99428012, 170.16686915, 171.34759434, 172.53651216,\n",
       "           173.73367943, 174.93915341, 176.15299172, 177.37525241,\n",
       "           178.60599392, 179.8452751 , 181.09315518, 182.34969385,\n",
       "           183.61495117, 184.88898765, 186.1718642 , 187.46364216,\n",
       "           188.76438329, 190.07414978, 191.39300426, 192.72100978,\n",
       "           194.05822985, 195.40472839, 196.76056979, 198.12581887,\n",
       "           199.50054091, 200.88480165, 202.27866725, 203.68220438,\n",
       "           205.09548014, 206.51856209, 207.95151828, 209.39441723,\n",
       "           210.84732793, 212.31031984, 213.7834629 , 215.26682757,\n",
       "           216.76048475, 218.26450588, 219.77896285, 221.30392808,\n",
       "           222.83947448, 224.38567547, 225.94260498, 227.51033745,\n",
       "           229.08894784, 230.67851162, 232.2791048 , 233.89080391,\n",
       "           235.51368601, 237.14782868, 238.79331007, 240.45020885,\n",
       "           242.11860423, 243.798576  , 245.49020448, 247.19357054,\n",
       "           248.90875563, 250.63584175, 252.37491149, 254.126048  ,\n",
       "           255.88933499, 257.66485679, 259.45269827, 261.25294493,\n",
       "           263.06568284, 264.89099866, 266.72897969, 268.57971378,\n",
       "           270.44328944, 272.31979576, 274.20932246, 276.1119599 ,\n",
       "           278.02779903, 279.95693147, 281.89944945, 283.85544584,\n",
       "           285.82501417, 287.80824861, 289.80524399, 291.81609577,\n",
       "           293.84090012, 295.87975384, 297.93275441, 300.        ]>"
      ]
     },
     "execution_count": 12,
     "metadata": {},
     "output_type": "execute_result"
    }
   ],
   "source": [
    "r_display / (2*G*m1 / c**2)"
   ]
  },
  {
   "cell_type": "code",
   "execution_count": 13,
   "id": "d6a5b0a8",
   "metadata": {},
   "outputs": [
    {
     "data": {
      "text/plain": [
       "(0.5, <Quantity 300.>)"
      ]
     },
     "execution_count": 13,
     "metadata": {},
     "output_type": "execute_result"
    },
    {
     "data": {
      "image/png": "[encoded data removed]",
      "text/plain": [
       "<Figure size 720x576 with 1 Axes>"
      ]
     },
     "metadata": {
      "needs_background": "light"
     },
     "output_type": "display_data"
    }
   ],
   "source": [
    "plt.figure(figsize=(10,8))\n",
    "plt.loglog(r_display / (2*G*m1 / c**2),rho_display, label = 'Dark matter density $\\\\rho(r)$')\n",
    "plt.axvline(x=2, color='red', ls='--', lw=3, label='Inner spike radius ($\\\\frac{4GM_1}{c^2}$)')\n",
    "plt.axvline(x=1, color='blue', ls='--', lw=3, label='Schwarzschild radius ($\\\\frac{4GM_1}{c^2}$)')\n",
    "plt.ylabel('Dark Matter density  ($M_{\\odot} / pc^3$)', fontsize=14)\n",
    "plt.xlabel('Binary Radial distance  ($\\\\frac{2GM_1}{c^2}$)', fontsize=14)\n",
    "plt.legend(fontsize=14)\n",
    "plt.xlim([0.5,max(r_display / (2*G*m1 / c**2))])"
   ]
  },
  {
   "cell_type": "code",
   "execution_count": 14,
   "id": "0f4bbe2d",
   "metadata": {},
   "outputs": [],
   "source": [
    "#Function to calculate the radial decay due to GW and DM energy loss\n",
    "#time is given in seconds (although no astropy units are explicilty used as the \n",
    "#numerical solver sin't compatible with those objects)\n",
    "\n",
    "def dadt(t, a0 ):\n",
    "    \n",
    "    a = a0*u.m\n",
    "    l_log = np.log(m1 / m2) / 2\n",
    "    \n",
    "    phi = np.sqrt( G * m / a**3  )\n",
    "    v  = np.sqrt( G * m  / a )      #from virial theorem K = -1/2 U -> 1/2 m v^2 = G m / 2a \n",
    "    \n",
    "    return -2*a**2 / (G * m * mu) * (  32/5 * G**4 * mu**2 * m**3 / (c**5 * a**5) \n",
    "                                     + 4*np.pi*G**2 * mu**2 * rho(a * m2pc , rhosp, gamma, m1) * l_log / v * solar2kg *m2pc**3 ) *u.s / u.m\n",
    "\n",
    "#This returns the overal orbital decay dr/dt in units of m/s (that's why they're removed at the end as \n",
    "#to be compatitble with the numerical solver)"
   ]
  },
  {
   "cell_type": "code",
   "execution_count": 15,
   "id": "4957468d",
   "metadata": {},
   "outputs": [],
   "source": [
    "#Function to calculate the radial decay due to GW energy loss\n",
    "#time is given in seconds (although no astropy units are explicilty used as the \n",
    "#numerical solver sin't compatible with those objects)\n",
    "\n",
    "def dadt_nodm(t, a0 ):\n",
    "    \n",
    "    a = a0*u.m\n",
    "    l_log = np.log(m1 / m2) / 2\n",
    "    \n",
    "    phi = np.sqrt( G * m / a**3  )\n",
    "    v  = np.sqrt( G * m  / a )      #from virial theorem K = -1/2 U -> 1/2 m v^2 = G m / 2a \n",
    "    \n",
    "    return -2*a**2 / (G * m * mu) * (  32/5 * G**4 * mu**2 * m**3 / (c**5 * a**5) ) *u.s / u.m\n",
    "\n",
    "#This returns the overal orbital decay dr/dt in units of m/s (that's why they're removed at the end as \n",
    "#to be compatitble with the numerical solver)"
   ]
  },
  {
   "cell_type": "code",
   "execution_count": 16,
   "id": "e5b9ebe0",
   "metadata": {},
   "outputs": [],
   "source": [
    "#function to terminate the evolution when the binary has a separation of about 1 risco\n",
    "def terminator(t, a):\n",
    "    return a - 6*const.G * m1 / const.c**2 /u.m\n",
    "\n",
    "terminator.terminal = True"
   ]
  },
  {
   "cell_type": "code",
   "execution_count": 17,
   "id": "0168df26",
   "metadata": {
    "scrolled": true
   },
   "outputs": [
    {
     "data": {
      "text/plain": [
       "  message: 'A termination event occurred.'\n",
       "     nfev: 248\n",
       "     njev: 0\n",
       "      nlu: 0\n",
       "      sol: <scipy.integrate._ivp.common.OdeSolution object at 0x7f4af46c3310>\n",
       "   status: 1\n",
       "  success: True\n",
       "        t: array([0.00000000e+00, 3.22669015e-01, 3.54935916e+00, 3.58162606e+01,\n",
       "       3.58485275e+02, 3.58517542e+03, 4.87987521e+03, 6.17457500e+03,\n",
       "       6.85725024e+03, 7.53992548e+03, 7.85478957e+03, 8.16965366e+03,\n",
       "       8.32393623e+03, 8.47821879e+03, 8.55163894e+03, 8.62505908e+03,\n",
       "       8.66046940e+03, 8.69587971e+03, 8.71284750e+03, 8.72981529e+03,\n",
       "       8.73796996e+03, 8.74612462e+03, 8.75003805e+03, 8.75395148e+03,\n",
       "       8.75583077e+03, 8.75771005e+03, 8.75861222e+03, 8.75951438e+03,\n",
       "       8.75994754e+03, 8.76030244e+03])\n",
       " t_events: [array([8760.30243642])]\n",
       "        y: array([[8859750.22830075, 8859668.4951176 , 8858851.03941735,\n",
       "        8850664.06591604, 8767522.19527405, 7765859.83880711,\n",
       "        7226030.97697163, 6528295.89198204, 6046559.91303419,\n",
       "        5410954.07939701, 5022147.43546164, 4513793.09370098,\n",
       "        4185259.60568038, 3753757.06722005, 3482155.01159247,\n",
       "        3126138.87154235, 2899305.24518948, 2601669.35138125,\n",
       "        2413139.05006649, 2165870.27153215, 2008821.11449667,\n",
       "        1802794.52872292, 1672110.30277616, 1500687.11987973,\n",
       "        1391887.28593098, 1249163.21437278, 1158604.68629241,\n",
       "        1039812.06789239,  964428.1532386 ,  885975.02282986]])\n",
       " y_events: [array([[885975.02282986]])]"
      ]
     },
     "execution_count": 17,
     "metadata": {},
     "output_type": "execute_result"
    }
   ],
   "source": [
    "#Numerically solve for the evolution of the binary\n",
    "\n",
    "sol_nodm = solve_ivp(dadt_nodm, [0, tcoal*10 / u.s], [a0 / u.m], dense_output=True, events=terminator, method = 'RK45' , atol=1e-6, rtol=1e-5)\n",
    "sol = solve_ivp(dadt,[0, tcoal*10 / u.s], [a0 / u.m], dense_output=True, events=terminator, method = 'RK45' , atol=1e-6, rtol=1e-5)\n",
    "sol"
   ]
  },
  {
   "cell_type": "markdown",
   "id": "c4d085b0",
   "metadata": {},
   "source": [
    "## Semimajor axis vs time plot"
   ]
  },
  {
   "cell_type": "code",
   "execution_count": 18,
   "id": "5604c3db",
   "metadata": {},
   "outputs": [
    {
     "data": {
      "image/png": "[encoded data removed]",
      "text/plain": [
       "<Figure size 720x576 with 1 Axes>"
      ]
     },
     "metadata": {
      "needs_background": "light"
     },
     "output_type": "display_data"
    }
   ],
   "source": [
    "plt.figure(figsize=(10,8))\n",
    "\n",
    "t0 = np.linspace(0, sol.t[-1],1000)\n",
    "t1 = np.linspace(0, sol_nodm.t[-1],1000)\n",
    "\n",
    "plt.plot(t0 , sol.sol(t0)[0] / risco, label=\"With DM\")\n",
    "plt.plot(t1, sol_nodm.sol(t1)[0] / risco, label = \"Without DM\")\n",
    "plt.legend()\n",
    "plt.ylabel(\" $r(t) \\; / \\; r_{isco} $\", fontsize=14)\n",
    "plt.xlabel(\"Time (s)\", fontsize=14)\n",
    "plt.yscale('log')\n"
   ]
  },
  {
   "cell_type": "markdown",
   "id": "5ec8eb24",
   "metadata": {},
   "source": [
    "## Final time in which both systems got to $r_{ISCO}$"
   ]
  },
  {
   "cell_type": "markdown",
   "id": "62bf588e",
   "metadata": {},
   "source": [
    "with dark matter"
   ]
  },
  {
   "cell_type": "code",
   "execution_count": 19,
   "id": "69658672",
   "metadata": {},
   "outputs": [
    {
     "data": {
      "text/latex": [
       "$2.4334173 \\; \\mathrm{h}$"
      ],
      "text/plain": [
       "<Quantity 2.43341734 h>"
      ]
     },
     "execution_count": 19,
     "metadata": {},
     "output_type": "execute_result"
    }
   ],
   "source": [
    "sol.t[-1] * s2hr * u.s"
   ]
  },
  {
   "cell_type": "markdown",
   "id": "b072fa3e",
   "metadata": {},
   "source": [
    "no dark matter"
   ]
  },
  {
   "cell_type": "code",
   "execution_count": 20,
   "id": "14ea8379",
   "metadata": {},
   "outputs": [
    {
     "data": {
      "text/latex": [
       "$2.4393451 \\; \\mathrm{h}$"
      ],
      "text/plain": [
       "<Quantity 2.43934508 h>"
      ]
     },
     "execution_count": 20,
     "metadata": {},
     "output_type": "execute_result"
    }
   ],
   "source": [
    "sol_nodm.t[-1] * s2hr * u.s"
   ]
  },
  {
   "cell_type": "markdown",
   "id": "e6efec13",
   "metadata": {},
   "source": [
    "## Final frequency"
   ]
  },
  {
   "cell_type": "code",
   "execution_count": 21,
   "id": "fb5070eb",
   "metadata": {},
   "outputs": [],
   "source": [
    "def fend(a):\n",
    "    return np.sqrt( const.G * m / a**3)"
   ]
  },
  {
   "cell_type": "code",
   "execution_count": 22,
   "id": "1672be5f",
   "metadata": {},
   "outputs": [
    {
     "data": {
      "text/latex": [
       "$139.10495 \\; \\mathrm{\\frac{1}{s}}$"
      ],
      "text/plain": [
       "<Quantity 139.1049475 1 / s>"
      ]
     },
     "execution_count": 22,
     "metadata": {},
     "output_type": "execute_result"
    }
   ],
   "source": [
    "a_dm =  sol.sol(t0)[0][-1]\n",
    "fend(a_dm * u.m)"
   ]
  },
  {
   "cell_type": "markdown",
   "id": "811c6c92",
   "metadata": {},
   "source": [
    "### Computing the number of cycles\n",
    "\n",
    "Functions to compute \n",
    "\n",
    "## $\\frac{f_{GW}}{\\dot{f}_{GW}}$\n",
    "\n",
    "As a function of orbital frequency"
   ]
  },
  {
   "cell_type": "code",
   "execution_count": 23,
   "id": "8f9c6309",
   "metadata": {},
   "outputs": [],
   "source": [
    "#Functions to that compute f_gw / dot(f)_gw as a function of the given gravitaitonal wave frequency f_gw\n",
    "#The input (f0) is in Hz without astropy units to avoid conflicts with the numerical solver\n",
    "\n",
    "#for a system without dark matter\n",
    "def fgw_nodm(f0):\n",
    "    #computing the orbital frequency\n",
    "    forb = f0 / 2 / u.s\n",
    "    #computing semimajor axis from the orbital frequency\n",
    "    a = ( const.G * m / (forb)**2) **(1/3)  \n",
    "    #computing the decay in semimajor axis\n",
    "    da = dadt_nodm(0, a / u.m )\n",
    "    \n",
    "    #computing fdot\n",
    "    fdot = -3 * (G * m) **(-1/3) * (forb)**(5/3) * (da * u.m / u.s) \n",
    "    #removing the units for fdot\n",
    "    fdot = fdot * (u.s)**2\n",
    "    #computing f_gw / dot(f)_gw\n",
    "    f_fdot = f0 / fdot\n",
    "    \n",
    "    return f_fdot\n",
    "\n",
    "#for a system with dark matter\n",
    "def fgw(f0):\n",
    "    #computing the orbital frequency\n",
    "    forb = f0 / 2 / u.s\n",
    "    #computing semimajor axis from the orbital frequency\n",
    "    a = ( const.G * m / (forb)**2) **(1/3)  \n",
    "    #computing the decay in semimajor axis\n",
    "    da = dadt(0, a / u.m )\n",
    "    \n",
    "    #computing fdot\n",
    "    fdot = -3 * (G * m) **(-1/3) * (forb)**(5/3) * (da * u.m / u.s) \n",
    "    #removing the units for fdot\n",
    "    fdot = fdot * (u.s)**2\n",
    "    #computing f_gw / dot(f)_gw\n",
    "    f_fdot = f0 / fdot\n",
    "    \n",
    "    return f_fdot"
   ]
  },
  {
   "cell_type": "markdown",
   "id": "a6cac56d",
   "metadata": {},
   "source": [
    "Recall now\n",
    "\n",
    "## $(6) \\quad N_{cyc} = \\int_{t_{min}}^{t_{max}} f_{GW}(t) dt = \\int_{f_{min}}^{f_{max}} df_{GW} \\frac{f_{GW}}{\\dot{f}_{GW}}$"
   ]
  },
  {
   "cell_type": "code",
   "execution_count": 24,
   "id": "ae4bfeea",
   "metadata": {},
   "outputs": [],
   "source": [
    "from scipy.integrate import quad"
   ]
  },
  {
   "cell_type": "code",
   "execution_count": 25,
   "id": "c1cca053",
   "metadata": {},
   "outputs": [
    {
     "data": {
      "text/latex": [
       "$139.10495 \\; \\mathrm{\\frac{1}{s}}$"
      ],
      "text/plain": [
       "<Quantity 139.1049475 1 / s>"
      ]
     },
     "execution_count": 25,
     "metadata": {},
     "output_type": "execute_result"
    }
   ],
   "source": [
    "#final frequency\n",
    "def fend(a):\n",
    "    return np.sqrt( const.G * m / a**3)\n",
    "\n",
    "#note this is simply 1 risco\n",
    "a_dm =  sol.sol(t0)[0][-1]\n",
    "fend(a_dm * u.m)"
   ]
  },
  {
   "cell_type": "code",
   "execution_count": 26,
   "id": "acc32bfe",
   "metadata": {},
   "outputs": [],
   "source": [
    "fmin = 10   #minimum frequency (in hz)\n",
    "fmax = fend(a_dm * u.m) * u.s  #max frequency (in hz, removing the stropy units)"
   ]
  },
  {
   "cell_type": "code",
   "execution_count": 27,
   "id": "dc2462fc",
   "metadata": {},
   "outputs": [],
   "source": [
    "#integrating the number of cycles with quad(integrand(f), f_initial, f_final)\n",
    "\n",
    "N_dm = quad(fgw, fmin , fmax )[0]\n",
    "N_nodm = quad(fgw_nodm, fmin , fmax )[0]"
   ]
  },
  {
   "cell_type": "markdown",
   "id": "14535b0b",
   "metadata": {},
   "source": [
    "difference between the number of cycles\n",
    "\n",
    "## $ N_{\\text{without darkmatter}} - N_{\\text{with dark matter}}$"
   ]
  },
  {
   "cell_type": "code",
   "execution_count": 28,
   "id": "0248a49a",
   "metadata": {},
   "outputs": [
    {
     "data": {
      "text/plain": [
       "146.47702850094356"
      ]
     },
     "execution_count": 28,
     "metadata": {},
     "output_type": "execute_result"
    }
   ],
   "source": [
    "N_diff = N_nodm - N_dm\n",
    "N_diff"
   ]
  },
  {
   "cell_type": "markdown",
   "id": "756d93c9",
   "metadata": {},
   "source": [
    "## Computing the number of cycles in radians"
   ]
  },
  {
   "cell_type": "code",
   "execution_count": 29,
   "id": "58456427",
   "metadata": {},
   "outputs": [
    {
     "data": {
      "text/plain": [
       "920.3423133164541"
      ]
     },
     "execution_count": 29,
     "metadata": {},
     "output_type": "execute_result"
    }
   ],
   "source": [
    "#Difference from dark matter / without dark matter in the number of cycles in radians\n",
    "N_diff * 2 * np.pi"
   ]
  },
  {
   "cell_type": "markdown",
   "id": "0fdeb288",
   "metadata": {},
   "source": [
    "## Number of cycles as a function of frequency"
   ]
  },
  {
   "cell_type": "code",
   "execution_count": 31,
   "id": "83767d2b",
   "metadata": {},
   "outputs": [],
   "source": [
    "#creating an aray of frequencies and storage for DM/no DM effects\n",
    "n = 100 #number of elements\n",
    "\n",
    "gw_freq = np.linspace(fmin, fmax,n)\n",
    "N_freq_dm = np.linspace(fmin, fmax,n)\n",
    "N_freq_nodm = np.linspace(fmin, fmax,n)\n",
    "\n",
    "for i in range(n):\n",
    "    N_freq_dm[i] = quad(fgw, fmin , gw_freq[i] )[0]\n",
    "    N_freq_nodm[i] = quad(fgw_nodm, fmin , gw_freq[i] )[0]\n"
   ]
  },
  {
   "cell_type": "code",
   "execution_count": 33,
   "id": "69904a35",
   "metadata": {},
   "outputs": [
    {
     "data": {
      "text/plain": [
       "[<matplotlib.lines.Line2D at 0x7f4af44f6cb0>]"
      ]
     },
     "execution_count": 33,
     "metadata": {},
     "output_type": "execute_result"
    },
    {
     "data": {
      "image/png": "[encoded data removed]",
      "text/plain": [
       "<Figure size 432x288 with 1 Axes>"
      ]
     },
     "metadata": {
      "needs_background": "light"
     },
     "output_type": "display_data"
    }
   ],
   "source": [
    "plt.plot(gw_freq , N_freq_dm - N_freq_nodm)\n",
    "plt.plot(gw_freq , N_freq_nodm)"
   ]
  },
  {
   "cell_type": "code",
   "execution_count": 35,
   "id": "31fdc3fc",
   "metadata": {},
   "outputs": [
    {
     "data": {
      "text/plain": [
       "[<matplotlib.lines.Line2D at 0x7f4af43c21d0>]"
      ]
     },
     "execution_count": 35,
     "metadata": {},
     "output_type": "execute_result"
    },
    {
     "data": {
      "image/png": "[encoded data removed]",
      "text/plain": [
       "<Figure size 432x288 with 1 Axes>"
      ]
     },
     "metadata": {
      "needs_background": "light"
     },
     "output_type": "display_data"
    }
   ],
   "source": [
    "plt.plot(gw_freq , N_freq_nodm - N_freq_dm )"
   ]
  },
  {
   "cell_type": "markdown",
   "id": "0c581bb0",
   "metadata": {},
   "source": [
    "## Bibliography"
   ]
  },
  {
   "cell_type": "markdown",
   "id": "c46072bc",
   "metadata": {},
   "source": [
    "[1] M. Maggiore, Gravitational Waves: Volume 1: Theory and Experiments, 1st ed. (Oxford\n",
    "University PressOxford, 2007).\n",
    "\n",
    "Dark matter model: \n",
    "\n",
    "https://arxiv.org/pdf/2002.12811.pdf\n",
    "\n",
    "https://arxiv.org/pdf/1408.3534.pdf\n",
    "\n",
    "Computing the DM effects on GW\n",
    "\n",
    "https://arxiv.org/pdf/2112.09586.pdf"
   ]
  },
  {
   "cell_type": "code",
   "execution_count": null,
   "id": "e5915cfb",
   "metadata": {},
   "outputs": [],
   "source": []
  },
  {
   "cell_type": "code",
   "execution_count": null,
   "id": "1510faba",
   "metadata": {},
   "outputs": [],
   "source": []
  },
  {
   "cell_type": "code",
   "execution_count": null,
   "id": "1a6f50cf",
   "metadata": {},
   "outputs": [],
   "source": []
  },
  {
   "cell_type": "code",
   "execution_count": null,
   "id": "3e88f50e",
   "metadata": {},
   "outputs": [],
   "source": []
  },
  {
   "cell_type": "code",
   "execution_count": null,
   "id": "1be6f406",
   "metadata": {},
   "outputs": [],
   "source": []
  },
  {
   "cell_type": "code",
   "execution_count": null,
   "id": "38980128",
   "metadata": {},
   "outputs": [],
   "source": []
  },
  {
   "cell_type": "code",
   "execution_count": null,
   "id": "2224db11",
   "metadata": {},
   "outputs": [],
   "source": []
  },
  {
   "cell_type": "code",
   "execution_count": null,
   "id": "49c96e7c",
   "metadata": {},
   "outputs": [],
   "source": []
  },
  {
   "cell_type": "code",
   "execution_count": 32,
   "id": "eeebceb7",
   "metadata": {},
   "outputs": [
    {
     "data": {
      "text/latex": [
       "$8.7108628 \\times 10^{-8} \\; \\mathrm{\\frac{s^{1/3}}{m}}$"
      ],
      "text/plain": [
       "<Quantity 8.71086276e-08 s(1/3) / m>"
      ]
     },
     "execution_count": 32,
     "metadata": {},
     "output_type": "execute_result"
    }
   ],
   "source": [
    "(G * m * u.s) ** (-1/3)"
   ]
  },
  {
   "cell_type": "code",
   "execution_count": 33,
   "id": "547e63de",
   "metadata": {},
   "outputs": [],
   "source": [
    "from sympy import *"
   ]
  },
  {
   "cell_type": "code",
   "execution_count": 34,
   "id": "81127a89",
   "metadata": {},
   "outputs": [],
   "source": [
    "da, a, G, m, fo, fgw = symbols('da, a, G, m, f_{orb}, f_{gw}')"
   ]
  },
  {
   "cell_type": "code",
   "execution_count": 35,
   "id": "b8669794",
   "metadata": {},
   "outputs": [
    {
     "data": {
      "text/latex": [
       "$\\displaystyle - \\frac{3 da \\sqrt{\\frac{G m}{a^{3}}}}{a}$"
      ],
      "text/plain": [
       "-3*da*sqrt(G*m/a**3)/a"
      ]
     },
     "execution_count": 35,
     "metadata": {},
     "output_type": "execute_result"
    }
   ],
   "source": [
    "diff(2 * sqrt(G * m / a**3),a)*da"
   ]
  },
  {
   "cell_type": "code",
   "execution_count": 182,
   "id": "55fcade4",
   "metadata": {},
   "outputs": [],
   "source": [
    "fdot = (-3 * da / a * (fgw/2)).subs(a, (G*m / fo**2)**(1/3))"
   ]
  },
  {
   "cell_type": "code",
   "execution_count": 184,
   "id": "4852d73f",
   "metadata": {},
   "outputs": [
    {
     "data": {
      "text/latex": [
       "$\\displaystyle - \\frac{0.944940787421155 da f_{gw}}{\\left(\\frac{G m}{f_{gw}^{2}}\\right)^{0.333333333333333}}$"
      ],
      "text/plain": [
       "-0.944940787421155*da*f_{gw}/(G*m/f_{gw}**2)**0.333333333333333"
      ]
     },
     "execution_count": 184,
     "metadata": {},
     "output_type": "execute_result"
    }
   ],
   "source": [
    "simplify(fdot.subs(fo, fgw/2))"
   ]
  },
  {
   "cell_type": "code",
   "execution_count": 58,
   "id": "1cadd576",
   "metadata": {},
   "outputs": [
    {
     "data": {
      "text/latex": [
       "$6.7349947 \\times 10^{-7} \\; \\mathrm{\\frac{1}{s^{2}}}$"
      ],
      "text/plain": [
       "<Quantity 6.73499467e-07 1 / s2>"
      ]
     },
     "execution_count": 58,
     "metadata": {},
     "output_type": "execute_result"
    }
   ],
   "source": [
    "fgw( 1 )"
   ]
  },
  {
   "cell_type": "markdown",
   "id": "c5e5ae7d",
   "metadata": {},
   "source": [
    "## $\\dot{f}_{GW} = -3 (Gm)^{-1/3} (\\frac{f_{GW}}{2} )^{5/3} \\frac{da}{dt}$"
   ]
  },
  {
   "cell_type": "code",
   "execution_count": 29,
   "id": "c4e45812",
   "metadata": {},
   "outputs": [
    {
     "data": {
      "text/latex": [
       "$8.7108628 \\times 10^{-8} \\; \\mathrm{\\frac{1}{s^{2}}}$"
      ],
      "text/plain": [
       "<Quantity 8.71086276e-08 1 / s2>"
      ]
     },
     "execution_count": 29,
     "metadata": {},
     "output_type": "execute_result"
    }
   ],
   "source": [
    "(G * m) **(-1/3) * u.m / u.s * (1/u.s)**(5/3)"
   ]
  },
  {
   "cell_type": "code",
   "execution_count": 6,
   "id": "68825ba2",
   "metadata": {},
   "outputs": [
    {
     "ename": "NameError",
     "evalue": "name 'm' is not defined",
     "output_type": "error",
     "traceback": [
      "\u001b[1;31m---------------------------------------------------------------------------\u001b[0m",
      "\u001b[1;31mNameError\u001b[0m                                 Traceback (most recent call last)",
      "Cell \u001b[1;32mIn[6], line 1\u001b[0m\n\u001b[1;32m----> 1\u001b[0m \u001b[43mm\u001b[49m\n",
      "\u001b[1;31mNameError\u001b[0m: name 'm' is not defined"
     ]
    }
   ],
   "source": [
    "m"
   ]
  },
  {
   "cell_type": "code",
   "execution_count": 63,
   "id": "8723fbc0",
   "metadata": {},
   "outputs": [],
   "source": [
    "from scipy.integrate import quad"
   ]
  },
  {
   "cell_type": "code",
   "execution_count": 61,
   "id": "1ec130ae",
   "metadata": {},
   "outputs": [],
   "source": [
    "def ncycles(f):\n",
    "\n",
    "    return quad(fgw, 10 , 1.474e3 )[0]"
   ]
  },
  {
   "cell_type": "code",
   "execution_count": 68,
   "id": "df15719f",
   "metadata": {},
   "outputs": [
    {
     "data": {
      "text/plain": [
       "1755783.357844257"
      ]
     },
     "execution_count": 68,
     "metadata": {},
     "output_type": "execute_result"
    }
   ],
   "source": [
    "quad(fgw, 10 , 1.474e3 )[0]"
   ]
  },
  {
   "cell_type": "code",
   "execution_count": 71,
   "id": "1929ff44",
   "metadata": {},
   "outputs": [
    {
     "data": {
      "text/plain": [
       "1927415.903944114"
      ]
     },
     "execution_count": 71,
     "metadata": {},
     "output_type": "execute_result"
    }
   ],
   "source": [
    "quad(fgw_nodm, 10 , 1.474e3 )[0]"
   ]
  },
  {
   "cell_type": "code",
   "execution_count": 72,
   "id": "5f8f24e3",
   "metadata": {},
   "outputs": [
    {
     "data": {
      "text/plain": [
       "171632"
      ]
     },
     "execution_count": 72,
     "metadata": {},
     "output_type": "execute_result"
    }
   ],
   "source": [
    "1927415 - 1755783"
   ]
  },
  {
   "cell_type": "code",
   "execution_count": null,
   "id": "81010049",
   "metadata": {},
   "outputs": [],
   "source": []
  },
  {
   "cell_type": "markdown",
   "id": "e2756000",
   "metadata": {},
   "source": [
    "difference between the two:"
   ]
  },
  {
   "cell_type": "code",
   "execution_count": 187,
   "id": "56d452f8",
   "metadata": {},
   "outputs": [
    {
     "data": {
      "text/plain": [
       "1.2804613031058169e+22"
      ]
     },
     "execution_count": 187,
     "metadata": {},
     "output_type": "execute_result"
    }
   ],
   "source": [
    "np.abs(quad(fgw, 10 , 1.474e3 )[0]  -quad(fgw_nodm, 10 , 1.474e3 )[0] )"
   ]
  },
  {
   "cell_type": "markdown",
   "id": "f57be5e0",
   "metadata": {},
   "source": [
    "## Bibliography "
   ]
  },
  {
   "cell_type": "markdown",
   "id": "5224bd78",
   "metadata": {},
   "source": [
    "[1] M. Maggiore, Gravitational Waves: Volume 1: Theory and Experiments, 1st ed. (Oxford\n",
    "University PressOxford, 2007)."
   ]
  },
  {
   "cell_type": "code",
   "execution_count": 84,
   "id": "6b495275",
   "metadata": {},
   "outputs": [],
   "source": [
    "from sympy import *"
   ]
  },
  {
   "cell_type": "code",
   "execution_count": 21,
   "id": "6c2ea06f",
   "metadata": {},
   "outputs": [],
   "source": [
    "G, m, r, e, a, phi = symbols('G, m, r, e, a, \\\\phi')"
   ]
  },
  {
   "cell_type": "code",
   "execution_count": 30,
   "id": "27a5f389",
   "metadata": {},
   "outputs": [],
   "source": [
    "R = r*(1+e*cos(phi))"
   ]
  },
  {
   "cell_type": "code",
   "execution_count": 27,
   "id": "67d4590d",
   "metadata": {},
   "outputs": [
    {
     "data": {
      "text/latex": [
       "$\\displaystyle \\frac{\\sqrt{- G a m \\left(e^{2} - 1\\right)} \\left(e \\cos{\\left(\\phi \\right)} + 1\\right)^{2}}{a^{2} \\left(e^{2} - 1\\right)^{2}}$"
      ],
      "text/plain": [
       "sqrt(-G*a*m*(e**2 - 1))*(e*cos(\\phi) + 1)**2/(a**2*(e**2 - 1)**2)"
      ]
     },
     "execution_count": 27,
     "metadata": {},
     "output_type": "execute_result"
    }
   ],
   "source": [
    "simplify((sqrt(G*m*R) / r**2).subs(r,a*(1-e**2)/(1 + e*cos(phi)) ) )"
   ]
  },
  {
   "cell_type": "code",
   "execution_count": null,
   "id": "18695d0a",
   "metadata": {},
   "outputs": [],
   "source": []
  }
 ],
 "metadata": {
  "kernelspec": {
   "display_name": "Python 3 (ipykernel)",
   "language": "python",
   "name": "python3"
  },
  "language_info": {
   "codemirror_mode": {
    "name": "ipython",
    "version": 3
   },
   "file_extension": ".py",
   "mimetype": "text/x-python",
   "name": "python",
   "nbconvert_exporter": "python",
   "pygments_lexer": "ipython3",
   "version": "3.10.2"
  }
 },
 "nbformat": 4,
 "nbformat_minor": 5
}
